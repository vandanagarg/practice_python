{
 "cells": [
  {
   "cell_type": "code",
   "execution_count": 4,
   "metadata": {},
   "outputs": [],
   "source": [
    "def myfunc(a,b):  \n",
    "    #returns the 5% of the sum of a and b\n",
    "    return sum((a,b)) * 0.05"
   ]
  },
  {
   "cell_type": "code",
   "execution_count": 5,
   "metadata": {},
   "outputs": [
    {
     "data": {
      "text/plain": [
       "5.0"
      ]
     },
     "execution_count": 5,
     "metadata": {},
     "output_type": "execute_result"
    }
   ],
   "source": [
    "myfunc(40,60)"
   ]
  },
  {
   "cell_type": "code",
   "execution_count": 16,
   "metadata": {},
   "outputs": [],
   "source": [
    "#now in above the parameters are restricted and are positional arguments but to extend the limit to take any n number of \n",
    "#arguments , we use *args and *kwargs \n",
    "\n",
    "def myfunc(*args):  #here it will consider all values as a tuple for the number of parameters that are coming in\n",
    "    return sum(args) * 0.05"
   ]
  },
  {
   "cell_type": "code",
   "execution_count": 7,
   "metadata": {},
   "outputs": [
    {
     "data": {
      "text/plain": [
       "0.25"
      ]
     },
     "execution_count": 7,
     "metadata": {},
     "output_type": "execute_result"
    }
   ],
   "source": [
    "myfunc(5)"
   ]
  },
  {
   "cell_type": "code",
   "execution_count": 17,
   "metadata": {},
   "outputs": [
    {
     "data": {
      "text/plain": [
       "0.5"
      ]
     },
     "execution_count": 17,
     "metadata": {},
     "output_type": "execute_result"
    }
   ],
   "source": [
    "myfunc(6,4)"
   ]
  },
  {
   "cell_type": "code",
   "execution_count": 18,
   "metadata": {},
   "outputs": [
    {
     "data": {
      "text/plain": [
       "558.5500000000001"
      ]
     },
     "execution_count": 18,
     "metadata": {},
     "output_type": "execute_result"
    }
   ],
   "source": [
    "myfunc(8,2,5565,5562,22,12)"
   ]
  },
  {
   "cell_type": "code",
   "execution_count": null,
   "metadata": {},
   "outputs": [],
   "source": [
    "def myfunc(*spam):  #its an arbitrary keyword not particulary args but * is important but better to use args #returns tuples\n",
    "    print(spam)"
   ]
  },
  {
   "cell_type": "code",
   "execution_count": 22,
   "metadata": {},
   "outputs": [
    {
     "name": "stdout",
     "output_type": "stream",
     "text": [
      "(11171,)\n"
     ]
    }
   ],
   "source": [
    "myfunc(8+2+5565+5562+22+12)"
   ]
  },
  {
   "cell_type": "code",
   "execution_count": 23,
   "metadata": {},
   "outputs": [
    {
     "name": "stdout",
     "output_type": "stream",
     "text": [
      "(8, 2, 5565, 5562, 22, 12)\n"
     ]
    }
   ],
   "source": [
    "myfunc(8,2,5565,5562,22,12) "
   ]
  },
  {
   "cell_type": "code",
   "execution_count": 31,
   "metadata": {},
   "outputs": [],
   "source": [
    "# **kwargs to return a dictionary\n",
    "\n",
    "def myfunc(**kwargs):\n",
    "    print(kwargs)\n",
    "    if 'fruit' in kwargs:\n",
    "        print(\"My fruit of choice is {}.\".format(kwargs['fruit']))\n",
    "    else:\n",
    "        print (\"There is no fruit of my choice here.\")\n"
   ]
  },
  {
   "cell_type": "code",
   "execution_count": 32,
   "metadata": {},
   "outputs": [
    {
     "name": "stdout",
     "output_type": "stream",
     "text": [
      "{'fruit': 'apple', 'veggie': 'gobi'}\n",
      "My fruit of choice is apple.\n"
     ]
    }
   ],
   "source": [
    "myfunc(fruit = 'apple', veggie = 'gobi')"
   ]
  },
  {
   "cell_type": "code",
   "execution_count": 33,
   "metadata": {},
   "outputs": [
    {
     "name": "stdout",
     "output_type": "stream",
     "text": [
      "{'cake': 'chocolate', 'veggie': 'gobi', 'sweets': 'carrot halwa'}\n",
      "There is no fruit of my choice here.\n"
     ]
    }
   ],
   "source": [
    "myfunc(cake = 'chocolate', veggie = 'gobi', sweets = 'carrot halwa')"
   ]
  },
  {
   "cell_type": "code",
   "execution_count": null,
   "metadata": {},
   "outputs": [],
   "source": [
    "#A combination of both\n",
    "\n",
    "def myfunc(*args, **kwargs):  #order matters so *args is positional argument but **kwargs is keyword argument\n",
    "    print(args)\n",
    "    print(kwargs)\n",
    "    print (\"I would like {} {}.\".format(args[0], kwargs['food'])) \n",
    "\n"
   ]
  },
  {
   "cell_type": "code",
   "execution_count": 35,
   "metadata": {},
   "outputs": [
    {
     "name": "stdout",
     "output_type": "stream",
     "text": [
      "(10, 20, 30)\n",
      "{'fruits': 'apple', 'food': 'eggs', 'juice': 'orange'}\n",
      "I would like 10 eggs.\n"
     ]
    }
   ],
   "source": [
    "myfunc(10,20,30, fruits = 'apple', food = 'eggs', juice = 'orange')"
   ]
  },
  {
   "cell_type": "code",
   "execution_count": 44,
   "metadata": {},
   "outputs": [],
   "source": [
    "def myfunc(*args):\n",
    "    return [ num for num in args if num%2 == 0]"
   ]
  },
  {
   "cell_type": "code",
   "execution_count": 39,
   "metadata": {},
   "outputs": [],
   "source": [
    "def myfunc(*args):\n",
    "    for num in args:\n",
    "        if num % 2 ==0:\n",
    "            print(num)"
   ]
  },
  {
   "cell_type": "code",
   "execution_count": 47,
   "metadata": {},
   "outputs": [
    {
     "data": {
      "text/plain": [
       "[8, 4, 26, 58]"
      ]
     },
     "execution_count": 47,
     "metadata": {},
     "output_type": "execute_result"
    }
   ],
   "source": [
    "myfunc(5,8,9,4,26,58,85)"
   ]
  },
  {
   "cell_type": "code",
   "execution_count": 96,
   "metadata": {},
   "outputs": [],
   "source": [
    "def myfunc(args):\n",
    "    aA =''\n",
    "    for i in range (0, len(args)):\n",
    "        if i%2 == 0:\n",
    "            a = args[i].lower()\n",
    "        else:\n",
    "            a = args[i].upper()\n",
    "        i = i+ 1\n",
    "        aA = aA+ a\n",
    "    return aA"
   ]
  },
  {
   "cell_type": "code",
   "execution_count": 97,
   "metadata": {},
   "outputs": [
    {
     "data": {
      "text/plain": [
       "'pEeYuSh'"
      ]
     },
     "execution_count": 97,
     "metadata": {},
     "output_type": "execute_result"
    }
   ],
   "source": [
    "myfunc('Peeyush')"
   ]
  },
  {
   "cell_type": "code",
   "execution_count": 24,
   "metadata": {},
   "outputs": [],
   "source": [
    "def myfunc(*args):\n",
    "    for args in args:\n",
    "        print (args[0])"
   ]
  },
  {
   "cell_type": "code",
   "execution_count": 25,
   "metadata": {},
   "outputs": [
    {
     "name": "stdout",
     "output_type": "stream",
     "text": [
      "V\n"
     ]
    }
   ],
   "source": [
    "myfunc('Vandana')"
   ]
  },
  {
   "cell_type": "code",
   "execution_count": 38,
   "metadata": {},
   "outputs": [],
   "source": [
    "def myfunc(*args):\n",
    "    aA =''\n",
    "    for item in args:\n",
    "        print(item)\n",
    "        for i in range (0, len(item)):\n",
    "            if i%2 == 0:\n",
    "                a = item[i].lower()\n",
    "                #print (a)\n",
    "            else:\n",
    "                a = item[i].upper()\n",
    "                #print (a)\n",
    "            i = i+ 1\n",
    "            aA = aA+ a\n",
    "        return aA"
   ]
  },
  {
   "cell_type": "code",
   "execution_count": 39,
   "metadata": {},
   "outputs": [
    {
     "name": "stdout",
     "output_type": "stream",
     "text": [
      "Peeyush,Vandana\n"
     ]
    },
    {
     "data": {
      "text/plain": [
       "'pEeYuSh,vAnDaNa'"
      ]
     },
     "execution_count": 39,
     "metadata": {},
     "output_type": "execute_result"
    }
   ],
   "source": [
    "myfunc('Peeyush,Vandana')"
   ]
  },
  {
   "cell_type": "code",
   "execution_count": 40,
   "metadata": {},
   "outputs": [
    {
     "name": "stdout",
     "output_type": "stream",
     "text": [
      "Peeyush\n"
     ]
    },
    {
     "data": {
      "text/plain": [
       "'pEeYuSh'"
      ]
     },
     "execution_count": 40,
     "metadata": {},
     "output_type": "execute_result"
    }
   ],
   "source": [
    "myfunc('Peeyush')"
   ]
  },
  {
   "cell_type": "code",
   "execution_count": 41,
   "metadata": {},
   "outputs": [],
   "source": [
    "def myfunc(*args):\n",
    "    out_string =''\n",
    "    for input_string in args:\n",
    "        #print(input_string)\n",
    "        for i in range (0, len(input_string)):\n",
    "            if i%2 == 0:\n",
    "                a = input_string[i].lower()\n",
    "                #print (a)\n",
    "                #i = i+ 1\n",
    "            else:\n",
    "                a = input_string[i].upper()\n",
    "                #print (a)\n",
    "            #i = i+ 1\n",
    "            out_string = out_string + a\n",
    "    return out_string"
   ]
  },
  {
   "cell_type": "code",
   "execution_count": 42,
   "metadata": {},
   "outputs": [
    {
     "name": "stdout",
     "output_type": "stream",
     "text": [
      "pEeYuShvAnDaNa\n"
     ]
    }
   ],
   "source": [
    "result= myfunc('Peeyush','vandana')\n",
    "print(result)"
   ]
  },
  {
   "cell_type": "code",
   "execution_count": 45,
   "metadata": {},
   "outputs": [],
   "source": [
    "def formatArrayOfString(*args):\n",
    "    formatted_strings_array = []\n",
    "    for input_string in args:\n",
    "        print(input_string)\n",
    "        formatted_string = ''\n",
    "        for i in range (0, len(input_string)):\n",
    "            if i%2 == 0:\n",
    "                formatted_char = input_string[i].lower()\n",
    "            else:\n",
    "                formatted_char = input_string[i].upper()\n",
    "            formatted_string = formatted_string + formatted_char\n",
    "        formatted_strings_array.append(formatted_string)    \n",
    "      \n",
    "    return formatted_strings_array\n"
   ]
  },
  {
   "cell_type": "code",
   "execution_count": 46,
   "metadata": {},
   "outputs": [
    {
     "name": "stdout",
     "output_type": "stream",
     "text": [
      "peeyush\n",
      "vandana\n",
      "['pEeYuSh', 'vAnDaNa']\n"
     ]
    }
   ],
   "source": [
    "result = formatArrayOfString('peeyush', 'vandana')\n",
    "print (result)"
   ]
  },
  {
   "cell_type": "code",
   "execution_count": 47,
   "metadata": {},
   "outputs": [],
   "source": []
  },
  {
   "cell_type": "code",
   "execution_count": null,
   "metadata": {},
   "outputs": [],
   "source": []
  }
 ],
 "metadata": {
  "kernelspec": {
   "display_name": "Python 3",
   "language": "python",
   "name": "python3"
  },
  "language_info": {
   "codemirror_mode": {
    "name": "ipython",
    "version": 3
   },
   "file_extension": ".py",
   "mimetype": "text/x-python",
   "name": "python",
   "nbconvert_exporter": "python",
   "pygments_lexer": "ipython3",
   "version": "3.6.4"
  }
 },
 "nbformat": 4,
 "nbformat_minor": 2
}
