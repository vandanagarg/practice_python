{
 "cells": [
  {
   "cell_type": "code",
   "execution_count": null,
   "metadata": {
    "collapsed": true
   },
   "outputs": [],
   "source": [
    "#Set working directory\n",
    "import os\n",
    "os.chdir(\"G:\\Analytics\\Edwisor\\Batch - 3\\Intro to Python\\Intro to Python\")\n",
    "#to check directory os.getcwd()"
   ]
  },
  {
   "cell_type": "code",
   "execution_count": null,
   "metadata": {},
   "outputs": [],
   "source": [
    "#Create array\n",
    "import numpy as np\n",
    "np.arange(10)\n",
    "#arange will generate a sequence of numbers as per the count in brackets. "
   ]
  },
  {
   "cell_type": "code",
   "execution_count": null,
   "metadata": {
    "collapsed": true
   },
   "outputs": [],
   "source": [
    "#Create list\n",
    "lis = [\"India\", 5, 6, 7]\n",
    "#to check type of list put type(lis) output will be list"
   ]
  },
  {
   "cell_type": "code",
   "execution_count": null,
   "metadata": {},
   "outputs": [],
   "source": [
    "sample_matrix = np.matrix('1 2 3; 3 4 5')"
   ]
  },
  {
   "cell_type": "code",
   "execution_count": null,
   "metadata": {},
   "outputs": [],
   "source": [
    "#transpose matrix\n",
    "np.transpose(sample_matrix)"
   ]
  },
  {
   "cell_type": "code",
   "execution_count": null,
   "metadata": {},
   "outputs": [],
   "source": [
    "# Arithmetic with matrices\n",
    "sample_matrix*2\n",
    "sample_matrix/2"
   ]
  },
  {
   "cell_type": "code",
   "execution_count": null,
   "metadata": {},
   "outputs": [],
   "source": [
    "#Let us learn how to create data frame\n",
    "import pandas as pd\n",
    "df = pd.DataFrame({'age': [1,2,4,9], \n",
    "                   'Gender': [\"M\", \"F\", \"F\", \"M\"],\n",
    "                   'Income': [5,6,7,3]})\n",
    "#3 variables and 4 observations."
   ]
  },
  {
   "cell_type": "code",
   "execution_count": null,
   "metadata": {
    "collapsed": true
   },
   "outputs": [],
   "source": [
    "#Rename varaible\n",
    "df = df.rename(columns = {'Gender':'Gender_v1', 'Income':'Income_v1'})\n",
    "#{old name,new name}"
   ]
  },
  {
   "cell_type": "code",
   "execution_count": null,
   "metadata": {},
   "outputs": [],
   "source": [
    "#Selecting variables from the dataset and making a new dataset\n",
    "#ggplot is a library which is also available under R and mtcars is a dataset.\n",
    "\n",
    "from ggplot import mtcars\n",
    "df_mtcars = mtcars\n",
    "df_mtcars_subset = df_mtcars[['hp', 'cyl', 'carb']]"
   ]
  },
  {
   "cell_type": "code",
   "execution_count": null,
   "metadata": {},
   "outputs": [],
   "source": [
    "#selecting the rows with condition; use &\n",
    "df_mtcars_v1 = df_mtcars.ix[(df_mtcars['cyl'] == 6) | (df_mtcars['carb'] == 4)]\n",
    "#ix helps us to identify the location. above is OR operation (|)"
   ]
  },
  {
   "cell_type": "code",
   "execution_count": null,
   "metadata": {
    "collapsed": true
   },
   "outputs": [],
   "source": [
    "#Creating new variable\n",
    "import numpy as np\n",
    "df_mtcars['NewVar'] = np.log2(df_mtcars['cyl'])\n",
    "\n",
    "#syntax: dataset[name of the new variable in ''] =library.function that you want to perform on the existing variable of dataset."
   ]
  },
  {
   "cell_type": "code",
   "execution_count": null,
   "metadata": {},
   "outputs": [],
   "source": [
    "# Adding rows of two data frame\n",
    "d1 = pd.DataFrame({'a' : [3,4,5,6], 'b' : [4,5,6,6]}) #Let us create two data frame to merge\n",
    "d2 = pd.DataFrame({'a' : [5,6,7,8], 'b' : [4,5,7,8]})\n",
    "\n",
    "d3 = d1.append(d2)\n",
    "#in d3, d2 gets added to d1 at the end of d1\n",
    "#append was for row bind "
   ]
  },
  {
   "cell_type": "code",
   "execution_count": null,
   "metadata": {
    "collapsed": true
   },
   "outputs": [],
   "source": [
    "#Adding columns-- this is for column bind; reset_index is for dropping the index and arrang ing in a correct order\n",
    "d3 = pd.concat([d1.reset_index(drop=True), d2], axis=1)"
   ]
  },
  {
   "cell_type": "code",
   "execution_count": null,
   "metadata": {},
   "outputs": [],
   "source": [
    "#convert each varaible\n",
    "df_mtcars['cyl'] = df_mtcars['cyl'].astype(object)\n",
    "#object is a factor variable--astype is a function that helps to convert in a proper datatype"
   ]
  },
  {
   "cell_type": "code",
   "execution_count": null,
   "metadata": {
    "collapsed": true
   },
   "outputs": [],
   "source": [
    "#convert entire dataframe\n",
    "df_mtcars = df_mtcars.astype(object)"
   ]
  },
  {
   "cell_type": "code",
   "execution_count": null,
   "metadata": {
    "collapsed": true
   },
   "outputs": [],
   "source": [
    "#Convert numeric to categorical/binning\n",
    "df_mtcars['mpgcat']= np.where(df_mtcars['mpg'] > 20, 'Low', 0)\n",
    "#where helps to write a condition, so its like if value of mpg is greater than 20 put Low else if less than 20 put 0."
   ]
  },
  {
   "cell_type": "code",
   "execution_count": null,
   "metadata": {
    "collapsed": true
   },
   "outputs": [],
   "source": [
    "##Sorting in ascending order\n",
    "df_mtcars = df_mtcars.sort_values('mpg', ascending = True)\n",
    "#sort_values base function in python."
   ]
  },
  {
   "cell_type": "code",
   "execution_count": null,
   "metadata": {
    "collapsed": true
   },
   "outputs": [],
   "source": [
    "##Sorting in desceding order\n",
    "df_mtcars = df_mtcars.sort_values('mpg', ascending = False)"
   ]
  },
  {
   "cell_type": "code",
   "execution_count": null,
   "metadata": {},
   "outputs": [],
   "source": [
    "#Merge/join dataframes - basically we combine 2 dataframes with help of a common variable.\n",
    "#creating new dataframes to perform join operations.\n",
    "df1 = pd.DataFrame({ 'A' : range(1, 6 ,1),   #?? how is this created\n",
    "                     'B' : np.random.randint(5, 105 , size = 5),  #?? how is this created\n",
    "                     'C' : ['Toaster','Toaster','Ohio', 'Toaster','Ohio'] })\n",
    "\n",
    "df2 = pd.DataFrame({'A' : [2, 4, 5],\n",
    "                    'Product' : ['Medium', 'Classic', 'Delux']})"
   ]
  },
  {
   "cell_type": "code",
   "execution_count": null,
   "metadata": {
    "collapsed": true
   },
   "outputs": [],
   "source": [
    "#Joins/merge\n",
    "df_left = df1.merge(df2, on = 'A' ,how = 'left') #on = 'A' is reference variable on which join has to be performed\n",
    "df_right = df1.merge(df2, on = 'A' ,how = 'right')\n",
    "#NaN value in output will denote that this value is not available\n",
    "#syntax for all joins are same just that value of how will change with respective join."
   ]
  },
  {
   "cell_type": "code",
   "execution_count": null,
   "metadata": {
    "collapsed": true
   },
   "outputs": [],
   "source": [
    "#replace all values in a varaible\n",
    "x = (\"This is a sentence about axis\")\n",
    "x.replace(\"is\", \"XY\")\n",
    "# replace is a function used for at a very basic level for pattern detection and replacement."
   ]
  }
 ],
 "metadata": {
  "kernelspec": {
   "display_name": "Python 3",
   "language": "python",
   "name": "python3"
  },
  "language_info": {
   "codemirror_mode": {
    "name": "ipython",
    "version": 3
   },
   "file_extension": ".py",
   "mimetype": "text/x-python",
   "name": "python",
   "nbconvert_exporter": "python",
   "pygments_lexer": "ipython3",
   "version": "3.6.4"
  }
 },
 "nbformat": 4,
 "nbformat_minor": 1
}
