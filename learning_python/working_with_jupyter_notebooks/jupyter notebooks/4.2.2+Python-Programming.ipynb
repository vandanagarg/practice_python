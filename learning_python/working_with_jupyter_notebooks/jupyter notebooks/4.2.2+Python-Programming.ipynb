{
 "cells": [
  {
   "cell_type": "code",
   "execution_count": null,
   "metadata": {
    "collapsed": true
   },
   "outputs": [],
   "source": [
    "#Set working directory\n",
    "import os\n",
    "os.chdir(\"G:\\Analytics\\Edwisor\\Version_Revamp\\Predictive Analytics using R\\ModifiedVersion\\Python Code\")"
   ]
  },
  {
   "cell_type": "code",
   "execution_count": null,
   "metadata": {
    "collapsed": true
   },
   "outputs": [],
   "source": [
    "#Create vector\n",
    "Player1 = [16, 9, 13, 5, 2, 17, 14]"
   ]
  },
  {
   "cell_type": "code",
   "execution_count": null,
   "metadata": {},
   "outputs": [],
   "source": [
    "#Loops in python..starts with for , i -iterative object, player1 = on which iteration has to be performed , then : colon\n",
    "#next line with one tab indentation body of the loop. Here its very common to have indentation problem in python thus keep a check.\n",
    "for i in Player1:\n",
    "    print(i)"
   ]
  },
  {
   "cell_type": "code",
   "execution_count": null,
   "metadata": {},
   "outputs": [],
   "source": [
    "#first load the german data from csv file\n",
    "import pandas as pd\n",
    "german = pd.read_csv(\"German.csv \")"
   ]
  },
  {
   "cell_type": "code",
   "execution_count": null,
   "metadata": {},
   "outputs": [],
   "source": [
    "german['newcol'] = 0  # creating a new value newcol and assigning default value 0 to it.\n",
    "for i in range(len(german)):  #range(len(german) will give the range / number of observations in this data german ans: range(0,1000) ,thus it implies it has thousand observations.\n",
    "    german['newcol'].loc[i] = german['Amount'].loc[i] + german['Duration'].loc[i]"
   ]
  },
  {
   "cell_type": "code",
   "execution_count": null,
   "metadata": {
    "collapsed": true
   },
   "outputs": [],
   "source": [
    "german['newcol_1'] = 0\n",
    "for i in range(len(german)):\n",
    "    if(german['ResidenceDuration'].iloc[i] == 4):  #iloc stands for location index.\n",
    "        german['newcol_1'].iloc[i] = 1    "
   ]
  },
  {
   "cell_type": "code",
   "execution_count": null,
   "metadata": {},
   "outputs": [],
   "source": [
    "#Apply functions in python..in case of python we just have one single apply function.\n",
    "#here syntax is differnt from R ; here first we must select data and then put apply and mention the function we need to perform\n",
    "#in R first comes apply then data set and function to be perfomed/multiple arguments.\n",
    "\n",
    "import numpy as np\n",
    "german.iloc[:,0:4].apply(np.sum, axis = 0)\n",
    "\n",
    "#axis = 0 means iterate over the coloumn else if axis =1 means iterate over the rows.\n",
    "#iloc[:,0:4] selecting all rows and just 4 variables."
   ]
  }
 ],
 "metadata": {
  "kernelspec": {
   "display_name": "Python 3",
   "language": "python",
   "name": "python3"
  },
  "language_info": {
   "codemirror_mode": {
    "name": "ipython",
    "version": 3
   },
   "file_extension": ".py",
   "mimetype": "text/x-python",
   "name": "python",
   "nbconvert_exporter": "python",
   "pygments_lexer": "ipython3",
   "version": "3.6.4"
  }
 },
 "nbformat": 4,
 "nbformat_minor": 1
}
